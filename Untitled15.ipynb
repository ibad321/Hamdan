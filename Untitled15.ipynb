{
  "nbformat": 4,
  "nbformat_minor": 0,
  "metadata": {
    "colab": {
      "provenance": [],
      "authorship_tag": "ABX9TyPshbK52wqCtArQbqvDJrog",
      "include_colab_link": true
    },
    "kernelspec": {
      "name": "python3",
      "display_name": "Python 3"
    },
    "language_info": {
      "name": "python"
    }
  },
  "cells": [
    {
      "cell_type": "markdown",
      "metadata": {
        "id": "view-in-github",
        "colab_type": "text"
      },
      "source": [
        "<a href=\"https://colab.research.google.com/github/ibad321/Hamdan/blob/main/Untitled15.ipynb\" target=\"_parent\"><img src=\"https://colab.research.google.com/assets/colab-badge.svg\" alt=\"Open In Colab\"/></a>"
      ]
    },
    {
      "cell_type": "code",
      "execution_count": 1,
      "metadata": {
        "colab": {
          "base_uri": "https://localhost:8080/"
        },
        "id": "3OiEzIePNVkC",
        "outputId": "974c9d8c-9d2c-43bd-f933-5ef866a2e3d4"
      },
      "outputs": [
        {
          "output_type": "stream",
          "name": "stdout",
          "text": [
            "🧭 User opens dashboard.\n",
            "👆 User clicks 'View Report 1'\n",
            "📄 Creating report for annual_report.pdf...\n",
            "📄 Generating full report for annual_report.pdf... (takes time!)\n",
            "🖥️ Showing the report: annual_report.pdf\n",
            "✅ Second time user views again\n",
            "🖥️ Displaying cached report for annual_report.pdf...\n",
            "🖥️ Showing the report: annual_report.pdf\n",
            "⏱️ Total Time Taken WITH Proxy: 5.01 seconds\n"
          ]
        }
      ],
      "source": [
        "import time\n",
        "\n",
        "start_time = time.time()  # ⏱️ Execution time track karne ke liye start time liya\n",
        "\n",
        "# 🧱 Yeh heavy class hai jo asli report generate karti hai\n",
        "class PDFReport:\n",
        "    def __init__(self, filename):\n",
        "        # ⚙️ Time-consuming kaam simulate kiya gaya hai\n",
        "        print(f\"📄 Generating full report for {filename}... (takes time!)\")\n",
        "        time.sleep(5)  # 💤 Jaise file system access, chart creation etc.\n",
        "        self.filename = filename\n",
        "\n",
        "    def display(self):\n",
        "        # 📄 Report ko screen par dikhata hai\n",
        "        print(f\"🖥️ Showing the report: {self.filename}\")\n",
        "\n",
        "# 🔁 Proxy class jo asli report ko tab banati hai jab zarurat ho\n",
        "class ProxyPDFReport:\n",
        "    def __init__(self, filename):\n",
        "        # 📁 Filename store kiya aur abhi report create nahi ki\n",
        "        self.filename = filename\n",
        "        self.real_report = None\n",
        "\n",
        "    def display(self):\n",
        "        # ✅ Pehli dafa: report create karo (heavy operation)\n",
        "        if self.real_report is None:\n",
        "            print(f\"📄 Creating report for {self.filename}...\")\n",
        "            self.real_report = PDFReport(self.filename)\n",
        "        else:\n",
        "            # 🔁 Baad mein same object use hoga\n",
        "            print(f\"🖥️ Displaying cached report for {self.filename}...\")\n",
        "\n",
        "        # 👀 Report show karo\n",
        "        self.real_report.display()\n",
        "\n",
        "# 🚀 User ne dashboard open kiya\n",
        "print(\"🧭 User opens dashboard.\")\n",
        "\n",
        "# 🔧 Proxy object banaya (asli report abhi nahi bani)\n",
        "proxy1 = ProxyPDFReport(\"annual_report.pdf\")\n",
        "\n",
        "print(\"👆 User clicks 'View Report 1'\")\n",
        "proxy1.display()  # ⚠️ Pehli dafa 5 sec lagengi\n",
        "\n",
        "print(\"✅ Second time user views again\")\n",
        "proxy1.display()  # ✅ Instant show hoga, koi delay nahi\n",
        "\n",
        "end_time = time.time()  # ⏱️ End time note kiya\n",
        "print(f\"⏱️ Total Time Taken WITH Proxy: {end_time - start_time:.2f} seconds\")\n"
      ]
    },
    {
      "cell_type": "code",
      "source": [],
      "metadata": {
        "id": "P4O6Up2MNWVQ"
      },
      "execution_count": null,
      "outputs": []
    }
  ]
}